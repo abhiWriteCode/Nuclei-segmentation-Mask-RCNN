{
  "nbformat": 4,
  "nbformat_minor": 0,
  "metadata": {
    "colab": {
      "name": "eval notebook.ipynb",
      "version": "0.3.2",
      "provenance": []
    },
    "kernelspec": {
      "name": "python3",
      "display_name": "Python 3"
    },
    "accelerator": "GPU"
  },
  "cells": [
    {
      "cell_type": "code",
      "metadata": {
        "id": "E4YddXkMEdZ0",
        "colab_type": "code",
        "colab": {}
      },
      "source": [
        "import os\n",
        "import sys\n",
        "import random\n",
        "import math\n",
        "import re\n",
        "import time\n",
        "import numpy as np\n",
        "import tensorflow as tf\n",
        "import matplotlib\n",
        "import matplotlib.pyplot as plt\n",
        "import matplotlib.patches as patches"
      ],
      "execution_count": 0,
      "outputs": []
    },
    {
      "cell_type": "code",
      "metadata": {
        "id": "iKqrsnc1EjiA",
        "colab_type": "code",
        "colab": {
          "base_uri": "https://localhost:8080/",
          "height": 50
        },
        "outputId": "f947398c-7dfc-41d0-8ef0-180fe6e98f29"
      },
      "source": [
        "# Root directory of the project\n",
        "ROOT_DIR = os.path.abspath(\"./\")\n",
        "print('SET ROOT DIR:', ROOT_DIR)\n",
        "\n",
        "# Import Mask RCNN\n",
        "sys.path.append(ROOT_DIR)  # To find local version of the library\n",
        "from mrcnn import utils\n",
        "from mrcnn import visualize\n",
        "from mrcnn.visualize import display_images\n",
        "import mrcnn.model as modellib\n",
        "from mrcnn.model import log\n",
        "\n",
        "\n",
        "from Mask_RCNN.samples.nucleus import nucleus\n",
        "\n",
        "# Directory to save logs and trained model\n",
        "LOGS_DIR = os.path.join(ROOT_DIR, \"logs\")\n",
        "\n",
        "DEVICE = \"/cpu:0\" # or /gpu:0\n",
        "TEST_MODE = \"inference\"\n",
        "DATASET_DIR = os.path.join(ROOT_DIR, \"Mask_RCNN/nuclei_datasets\")"
      ],
      "execution_count": 2,
      "outputs": [
        {
          "output_type": "stream",
          "text": [
            "SET ROOT DIR: /content\n"
          ],
          "name": "stdout"
        },
        {
          "output_type": "stream",
          "text": [
            "Using TensorFlow backend.\n"
          ],
          "name": "stderr"
        }
      ]
    },
    {
      "cell_type": "code",
      "metadata": {
        "id": "tiM_A0cGE_2H",
        "colab_type": "code",
        "colab": {}
      },
      "source": [
        "def compute_batch_ap(dataset, image_ids, verbose=1):\n",
        "    APs = []\n",
        "    for image_id in image_ids:\n",
        "        # Load image\n",
        "        image, image_meta, gt_class_id, gt_bbox, gt_mask =\\\n",
        "            modellib.load_image_gt(dataset, config,\n",
        "                                   image_id, use_mini_mask=False)\n",
        "        # Run object detection\n",
        "        results = model.detect_molded(image[np.newaxis], image_meta[np.newaxis], verbose=0)\n",
        "        # Compute AP over range 0.5 to 0.95\n",
        "        r = results[0]\n",
        "        ap = utils.compute_ap_range(\n",
        "            gt_bbox, gt_class_id, gt_mask,\n",
        "            r['rois'], r['class_ids'], r['scores'], r['masks'],\n",
        "            verbose=0)\n",
        "        APs.append(ap)\n",
        "        if verbose:\n",
        "            info = dataset.image_info[image_id]\n",
        "            meta = modellib.parse_image_meta(image_meta[np.newaxis,...])\n",
        "            print(\"{:3} {}   AP: {:.2f}\".format(\n",
        "                meta[\"image_id\"][0], meta[\"original_image_shape\"][0], ap))\n",
        "    return APs"
      ],
      "execution_count": 0,
      "outputs": []
    },
    {
      "cell_type": "code",
      "metadata": {
        "id": "o7U-mFlkFtup",
        "colab_type": "code",
        "colab": {
          "base_uri": "https://localhost:8080/",
          "height": 524
        },
        "outputId": "335fb0fa-c972-439e-9194-45c7b699efe4"
      },
      "source": [
        "# Inference Configuration\n",
        "config = nucleus.NucleusInferenceConfig()\n",
        "\n",
        "# Create model in inference mode\n",
        "with tf.device(DEVICE):\n",
        "    model = modellib.MaskRCNN(mode=\"inference\",\n",
        "                              model_dir=LOGS_DIR,\n",
        "                              config=config)\n",
        "\n",
        "weights_path = os.path.join(ROOT_DIR, \"Mask_RCNN/weights/kaggle_bowl.h5\")\n",
        "\n",
        "# Load weights\n",
        "print(\"Loading weights \", weights_path)\n",
        "model.load_weights(weights_path, by_name=True)"
      ],
      "execution_count": 4,
      "outputs": [
        {
          "output_type": "stream",
          "text": [
            "WARNING: Logging before flag parsing goes to stderr.\n",
            "W0627 04:27:31.599661 140552534747008 deprecation_wrapper.py:119] From /usr/local/lib/python3.6/dist-packages/keras/backend/tensorflow_backend.py:517: The name tf.placeholder is deprecated. Please use tf.compat.v1.placeholder instead.\n",
            "\n",
            "W0627 04:27:31.608189 140552534747008 deprecation_wrapper.py:119] From /usr/local/lib/python3.6/dist-packages/keras/backend/tensorflow_backend.py:74: The name tf.get_default_graph is deprecated. Please use tf.compat.v1.get_default_graph instead.\n",
            "\n",
            "W0627 04:27:31.614920 140552534747008 deprecation_wrapper.py:119] From /usr/local/lib/python3.6/dist-packages/keras/backend/tensorflow_backend.py:4138: The name tf.random_uniform is deprecated. Please use tf.random.uniform instead.\n",
            "\n",
            "W0627 04:27:31.649165 140552534747008 deprecation_wrapper.py:119] From /usr/local/lib/python3.6/dist-packages/keras/backend/tensorflow_backend.py:1919: The name tf.nn.fused_batch_norm is deprecated. Please use tf.compat.v1.nn.fused_batch_norm instead.\n",
            "\n",
            "W0627 04:27:31.654630 140552534747008 deprecation_wrapper.py:119] From /usr/local/lib/python3.6/dist-packages/keras/backend/tensorflow_backend.py:3976: The name tf.nn.max_pool is deprecated. Please use tf.nn.max_pool2d instead.\n",
            "\n",
            "W0627 04:27:33.386987 140552534747008 deprecation_wrapper.py:119] From /usr/local/lib/python3.6/dist-packages/keras/backend/tensorflow_backend.py:2018: The name tf.image.resize_nearest_neighbor is deprecated. Please use tf.compat.v1.image.resize_nearest_neighbor instead.\n",
            "\n",
            "W0627 04:27:33.959030 140552534747008 deprecation_wrapper.py:119] From /usr/local/lib/python3.6/dist-packages/mask_rcnn-2.1-py3.6.egg/mrcnn/model.py:341: The name tf.log is deprecated. Please use tf.math.log instead.\n",
            "\n",
            "W0627 04:27:33.971921 140552534747008 deprecation.py:323] From /usr/local/lib/python3.6/dist-packages/mask_rcnn-2.1-py3.6.egg/mrcnn/model.py:399: add_dispatch_support.<locals>.wrapper (from tensorflow.python.ops.array_ops) is deprecated and will be removed in a future version.\n",
            "Instructions for updating:\n",
            "Use tf.where in 2.0, which has the same broadcast rule as np.where\n",
            "W0627 04:27:33.981399 140552534747008 deprecation.py:506] From /usr/local/lib/python3.6/dist-packages/mask_rcnn-2.1-py3.6.egg/mrcnn/model.py:423: calling crop_and_resize_v1 (from tensorflow.python.ops.image_ops_impl) with box_ind is deprecated and will be removed in a future version.\n",
            "Instructions for updating:\n",
            "box_ind is deprecated, use box_indices instead\n",
            "W0627 04:27:34.516845 140552534747008 deprecation_wrapper.py:119] From /usr/local/lib/python3.6/dist-packages/mask_rcnn-2.1-py3.6.egg/mrcnn/model.py:758: The name tf.sets.set_intersection is deprecated. Please use tf.sets.intersection instead.\n",
            "\n",
            "W0627 04:27:34.524282 140552534747008 deprecation_wrapper.py:119] From /usr/local/lib/python3.6/dist-packages/mask_rcnn-2.1-py3.6.egg/mrcnn/model.py:760: The name tf.sparse_tensor_to_dense is deprecated. Please use tf.sparse.to_dense instead.\n",
            "\n",
            "W0627 04:27:34.547535 140552534747008 deprecation.py:323] From /usr/local/lib/python3.6/dist-packages/mask_rcnn-2.1-py3.6.egg/mrcnn/model.py:772: to_float (from tensorflow.python.ops.math_ops) is deprecated and will be removed in a future version.\n",
            "Instructions for updating:\n",
            "Use `tf.cast` instead.\n"
          ],
          "name": "stderr"
        },
        {
          "output_type": "stream",
          "text": [
            "Loading weights  /content/Mask_RCNN/weights/kaggle_bowl.h5\n"
          ],
          "name": "stdout"
        }
      ]
    },
    {
      "cell_type": "markdown",
      "metadata": {
        "id": "-mB2aNWoMHm_",
        "colab_type": "text"
      },
      "source": [
        "## Let ready datasets"
      ]
    },
    {
      "cell_type": "code",
      "metadata": {
        "id": "Y9d8l8mIEo2A",
        "colab_type": "code",
        "colab": {
          "base_uri": "https://localhost:8080/",
          "height": 118
        },
        "outputId": "d3bd7576-18b7-4a88-b2a3-1bb5a4f9ea84"
      },
      "source": [
        "# Load validation dataset\n",
        "train_dataset = nucleus.NucleusDataset()\n",
        "train_dataset.load_nucleus(DATASET_DIR, \"train\")\n",
        "train_dataset.prepare()\n",
        "\n",
        "print(\"Images: {}\\nClasses: {}\\n\".format(len(train_dataset.image_ids), train_dataset.class_names))\n",
        "\n",
        "# Load validation dataset\n",
        "val_dataset = nucleus.NucleusDataset()\n",
        "val_dataset.load_nucleus(DATASET_DIR, \"val\")\n",
        "val_dataset.prepare()\n",
        "\n",
        "print(\"\\nImages: {}\\nClasses: {}\".format(len(val_dataset.image_ids), val_dataset.class_names))"
      ],
      "execution_count": 5,
      "outputs": [
        {
          "output_type": "stream",
          "text": [
            "Images: 645\n",
            "Classes: ['BG', 'nucleus']\n",
            "\n",
            "\n",
            "Images: 25\n",
            "Classes: ['BG', 'nucleus']\n"
          ],
          "name": "stdout"
        }
      ]
    },
    {
      "cell_type": "markdown",
      "metadata": {
        "id": "To8Xn24RL0vZ",
        "colab_type": "text"
      },
      "source": [
        "## maP on Validation dataset\n",
        "\n",
        "only on 5 images"
      ]
    },
    {
      "cell_type": "code",
      "metadata": {
        "id": "Dz7yAuL1E1wU",
        "colab_type": "code",
        "colab": {
          "base_uri": "https://localhost:8080/",
          "height": 118
        },
        "outputId": "11aaaaba-41c9-4535-ae41-e496af6da177"
      },
      "source": [
        "# Run on validation set\n",
        "limit = 5\n",
        "APs = compute_batch_ap(val_dataset, val_dataset.image_ids[-limit:]) # last 5 images\n",
        "print(\"Mean AP overa {} images: {:.4f}\".format(len(APs), np.mean(APs)))"
      ],
      "execution_count": 6,
      "outputs": [
        {
          "output_type": "stream",
          "text": [
            " 20 [256 320   3]   AP: 0.41\n",
            " 21 [256 256   3]   AP: 0.43\n",
            " 22 [256 320   3]   AP: 0.36\n",
            " 23 [256 256   3]   AP: 0.86\n",
            " 24 [256 256   3]   AP: 0.82\n",
            "Mean AP overa 5 images: 0.5764\n"
          ],
          "name": "stdout"
        }
      ]
    },
    {
      "cell_type": "markdown",
      "metadata": {
        "id": "bscPgP7eGaAF",
        "colab_type": "text"
      },
      "source": [
        "## maP on Traing dataset\n",
        "\n",
        "only on 5 images"
      ]
    },
    {
      "cell_type": "code",
      "metadata": {
        "id": "8v1WXKMdGBAM",
        "colab_type": "code",
        "colab": {
          "base_uri": "https://localhost:8080/",
          "height": 118
        },
        "outputId": "6feb194e-d7d7-42ef-c5dd-2c6ef898beda"
      },
      "source": [
        "# Run on training set\n",
        "limit = 5\n",
        "APs = compute_batch_ap(train_dataset, train_dataset.image_ids[-limit:]) # last 5 images\n",
        "print(\"Mean AP overa {} images: {:.4f}\".format(len(APs), np.mean(APs)))"
      ],
      "execution_count": 8,
      "outputs": [
        {
          "output_type": "stream",
          "text": [
            "640 [256 256   3]   AP: 0.87\n",
            "641 [256 256   3]   AP: 0.58\n",
            "642 [256 320   3]   AP: 0.41\n",
            "643 [256 256   3]   AP: 0.66\n",
            "644 [256 256   3]   AP: 0.35\n",
            "Mean AP overa 5 images: 0.5740\n"
          ],
          "name": "stdout"
        }
      ]
    },
    {
      "cell_type": "code",
      "metadata": {
        "id": "B8kVWJuxIlsr",
        "colab_type": "code",
        "colab": {}
      },
      "source": [
        ""
      ],
      "execution_count": 0,
      "outputs": []
    }
  ]
}